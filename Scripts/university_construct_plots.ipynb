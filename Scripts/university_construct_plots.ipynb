{
 "cells": [
  {
   "cell_type": "code",
   "execution_count": 44,
   "metadata": {},
   "outputs": [],
   "source": [
    "import pandas as pd\n",
    "import matplotlib.pyplot as plt\n",
    "import matplotlib.style as style\n",
    "import numpy as np\n",
    "import os \n",
    "\n",
    "style.use('ggplot')"
   ]
  },
  {
   "cell_type": "code",
   "execution_count": 45,
   "metadata": {},
   "outputs": [],
   "source": [
    "grid_list = ['grid.168010.e', 'grid.1032.0', 'grid.7177.6', 'grid.194645.b', 'grid.6571.5', 'grid.5477.1']"
   ]
  },
  {
   "cell_type": "code",
   "execution_count": 46,
   "metadata": {},
   "outputs": [],
   "source": [
    "dirname = os.getcwd()\n",
    "dirname = dirname + '/Data/'"
   ]
  },
  {
   "cell_type": "code",
   "execution_count": 47,
   "metadata": {},
   "outputs": [],
   "source": [
    "df_ARWU2018 = pd.read_csv(dirname + 'ARWU/ARWURanking_2018_grid.csv')\n",
    "df_ARWU2017 = pd.read_csv(dirname + 'ARWU/ARWURanking_2017_grid.csv')\n",
    "df_ARWU2016 = pd.read_csv(dirname + 'ARWU/ARWURanking_2016_grid.csv')\n",
    "df_ARWU2015 = pd.read_csv(dirname + 'ARWU/ARWURanking_2015_grid.csv')\n",
    "df_ARWU2014 = pd.read_csv(dirname + 'ARWU/ARWURanking_2014_grid.csv')\n",
    "df_ARWU2013 = pd.read_csv(dirname + 'ARWU/ARWURanking_2013_grid.csv')\n",
    "df_ARWU2012 = pd.read_csv(dirname + 'ARWU/ARWURanking_2012_grid.csv')\n",
    "\n",
    "ARWU_DATA = [\"GRID_ID\", \"Alumni\",\"Award\",\"HiCi\", \"NS\", \"PUB\"]\n",
    "\n",
    "df_ARWU2012 = df_ARWU2012[ARWU_DATA].dropna()\n",
    "df_ARWU2013 = df_ARWU2013[ARWU_DATA].dropna()\n",
    "df_ARWU2014 = df_ARWU2014[ARWU_DATA].dropna()\n",
    "df_ARWU2015 = df_ARWU2015[ARWU_DATA].dropna()\n",
    "df_ARWU2016 = df_ARWU2016[ARWU_DATA].dropna()\n",
    "df_ARWU2017 = df_ARWU2017[ARWU_DATA].dropna()\n",
    "df_ARWU2018 = df_ARWU2018[ARWU_DATA].dropna()"
   ]
  },
  {
   "cell_type": "code",
   "execution_count": 48,
   "metadata": {},
   "outputs": [],
   "source": [
    "df_THE2012 = pd.read_csv(dirname + 'THE/THERanking2013__grid.csv')\n",
    "df_THE2013 = pd.read_csv(dirname + 'THE/THERanking2014__grid.csv')\n",
    "df_THE2014 = pd.read_csv(dirname + 'THE/THERanking2015__grid.csv')\n",
    "df_THE2015 = pd.read_csv(dirname + 'THE/THERanking2016__grid.csv')\n",
    "df_THE2016 = pd.read_csv(dirname + 'THE/THERanking2017__grid.csv')\n",
    "df_THE2017 = pd.read_csv(dirname + 'THE/THERanking2018__grid.csv')\n",
    "df_THE2018 = pd.read_csv(dirname + 'THE/THERanking2019__grid.csv')\n",
    "\n",
    "THE_DATA = [\"GRID_ID\", \"Teaching\",\"Rechearch\",\"Citations\", \"Industry_Income\", \"Internationals_Outlook\"]\n",
    "\n",
    "df_THE2012 = df_THE2012[THE_DATA].dropna()\n",
    "df_THE2013 = df_THE2013[THE_DATA].dropna()\n",
    "df_THE2014 = df_THE2014[THE_DATA].dropna()\n",
    "df_THE2015 = df_THE2015[THE_DATA].dropna()\n",
    "df_THE2016 = df_THE2016[THE_DATA].dropna()\n",
    "df_THE2017 = df_THE2017[THE_DATA].dropna()\n",
    "df_THE2018 = df_THE2018[THE_DATA].dropna()"
   ]
  },
  {
   "cell_type": "code",
   "execution_count": 49,
   "metadata": {},
   "outputs": [],
   "source": [
    "df_QS2012 = pd.read_csv(dirname + 'QS/qs2013_grid.csv')\n",
    "df_QS2013 = pd.read_csv(dirname + 'QS/qs2014_grid.csv')\n",
    "df_QS2014 = pd.read_csv(dirname + 'QS/qs2015_grid.csv')\n",
    "df_QS2015 = pd.read_csv(dirname + 'QS/qs2016_grid.csv')\n",
    "df_QS2016 = pd.read_csv(dirname + 'QS/qs2017_grid.csv')\n",
    "df_QS2017 = pd.read_csv(dirname + 'QS/qs2018_grid.csv')\n",
    "df_QS2018 = pd.read_csv(dirname + 'QS/qs2019_grid.csv')\n",
    "\n",
    "QS_DATA = [\"GRID_ID\", \"Academic_reputation\",\"Employer_reputation\",\"Faculty_Student\", \"International_Faculty\", \n",
    "           \"International_Students\", \"Citations\"]\n",
    "\n",
    "df_QS2018 = df_QS2018.replace(0, np.nan)\n",
    "df_QS2017 = df_QS2017.replace(0, np.nan)\n",
    "df_QS2016 = df_QS2016.replace(0, np.nan)\n",
    "df_QS2015 = df_QS2015.replace(0, np.nan)\n",
    "df_QS2014 = df_QS2014.replace(0, np.nan)\n",
    "df_QS2013 = df_QS2013.replace(0, np.nan)\n",
    "df_QS2012 = df_QS2012.replace(0, np.nan)\n",
    "\n",
    "df_QS2018 = df_QS2018[QS_DATA].dropna()\n",
    "df_QS2017 = df_QS2017[QS_DATA].dropna()\n",
    "df_QS2016 = df_QS2016[QS_DATA].dropna()\n",
    "df_QS2015 = df_QS2015[QS_DATA].dropna()\n",
    "df_QS2014 = df_QS2014[QS_DATA].dropna()\n",
    "df_QS2013 = df_QS2013[QS_DATA].dropna()\n",
    "df_QS2012 = df_QS2012[QS_DATA].dropna()"
   ]
  },
  {
   "cell_type": "code",
   "execution_count": 50,
   "metadata": {},
   "outputs": [],
   "source": [
    "def create_constructs(df_ARWU, df_THE, df_QS, year):\n",
    "    \n",
    "    df_ARWU['Reputation_ARWU'] = (df_ARWU['Alumni'] + df_ARWU['Award']) / 2\n",
    "    df_ARWU['Publication_ARWU'] = (df_ARWU['HiCi'] + df_ARWU['NS'] + df_ARWU['PUB']) / 3\n",
    "    df_ARWU = df_ARWU[['GRID_ID', 'Reputation_ARWU', 'Publication_ARWU']]\n",
    "    df_ARWU['year'] = year\n",
    "    df_ARWU = df_ARWU[['GRID_ID', 'year', 'Reputation_ARWU', 'Publication_ARWU']]\n",
    "    df_ARWU.columns = ['GRID_ID', 'year', 'Reputation_ARWU', 'Publication_ARWU']\n",
    "    \n",
    "    df_THE['Reputation_THE'] = (df_THE['Teaching'] + df_THE['Rechearch']) / 2\n",
    "    df_THE['Publication_THE'] = df_THE['Citations']\n",
    "    df_THE = df_THE[['GRID_ID', 'Reputation_THE', 'Publication_THE']]\n",
    "    df_THE['year'] = year\n",
    "    df_THE = df_THE[['GRID_ID', 'year', 'Reputation_THE', 'Publication_THE']]\n",
    "    df_THE.columns = ['GRID_ID', 'year', 'Reputation_THE', 'Publication_THE']\n",
    "    \n",
    "    df_QS['Reputation_QS'] = (df_QS['Academic_reputation'] + df_QS['Employer_reputation']) / 2\n",
    "    df_QS['Publication_QS'] = df_QS['Citations']\n",
    "    df_QS = df_QS[['GRID_ID', 'Reputation_QS', 'Publication_QS']]\n",
    "    df_QS['year'] = year\n",
    "    df_QS = df_QS[['GRID_ID', 'year', 'Reputation_QS', 'Publication_QS']]\n",
    "    df_QS.columns = ['GRID_ID', 'year', 'Reputation_QS', 'Publication_QS']\n",
    "    \n",
    "    return df_ARWU, df_THE, df_QS"
   ]
  },
  {
   "cell_type": "code",
   "execution_count": 51,
   "metadata": {},
   "outputs": [],
   "source": [
    "def add_arrow(line, position=None, direction='right', size=20, color=None):\n",
    "    if color is None:\n",
    "        color = line.get_color()\n",
    "\n",
    "    xdata = line.get_xdata()\n",
    "    ydata = line.get_ydata()\n",
    "\n",
    "    for i in range(len(xdata) -1):\n",
    "        position = xdata[i]\n",
    "        start_ind = np.argmin(np.absolute(xdata - position))\n",
    "        if direction == 'right':\n",
    "            end_ind = start_ind + 1\n",
    "        else:\n",
    "            end_ind = start_ind - 1\n",
    "\n",
    "        line.axes.annotate('',\n",
    "            xytext=(xdata[start_ind], ydata[start_ind]),\n",
    "            xy=(xdata[end_ind], ydata[end_ind]),\n",
    "            arrowprops=dict(arrowstyle=\"-|>\", color=color),\n",
    "            size=size\n",
    "        )"
   ]
  },
  {
   "cell_type": "code",
   "execution_count": 52,
   "metadata": {},
   "outputs": [
    {
     "name": "stderr",
     "output_type": "stream",
     "text": [
      "/Users/Friso/anaconda3/lib/python3.7/site-packages/ipykernel_launcher.py:6: SettingWithCopyWarning: \n",
      "A value is trying to be set on a copy of a slice from a DataFrame.\n",
      "Try using .loc[row_indexer,col_indexer] = value instead\n",
      "\n",
      "See the caveats in the documentation: http://pandas.pydata.org/pandas-docs/stable/indexing.html#indexing-view-versus-copy\n",
      "  \n",
      "/Users/Friso/anaconda3/lib/python3.7/site-packages/ipykernel_launcher.py:13: SettingWithCopyWarning: \n",
      "A value is trying to be set on a copy of a slice from a DataFrame.\n",
      "Try using .loc[row_indexer,col_indexer] = value instead\n",
      "\n",
      "See the caveats in the documentation: http://pandas.pydata.org/pandas-docs/stable/indexing.html#indexing-view-versus-copy\n",
      "  del sys.path[0]\n",
      "/Users/Friso/anaconda3/lib/python3.7/site-packages/ipykernel_launcher.py:20: SettingWithCopyWarning: \n",
      "A value is trying to be set on a copy of a slice from a DataFrame.\n",
      "Try using .loc[row_indexer,col_indexer] = value instead\n",
      "\n",
      "See the caveats in the documentation: http://pandas.pydata.org/pandas-docs/stable/indexing.html#indexing-view-versus-copy\n"
     ]
    }
   ],
   "source": [
    "df_ARWU2018, df_THE2018, df_QS2018 = create_constructs(df_ARWU2018, df_THE2018, df_QS2018, '2018')\n",
    "df_ARWU2017, df_THE2017, df_QS2017 = create_constructs(df_ARWU2017, df_THE2017, df_QS2017, '2017')\n",
    "df_ARWU2016, df_THE2016, df_QS2016 = create_constructs(df_ARWU2016, df_THE2016, df_QS2016, '2016')\n",
    "df_ARWU2015, df_THE2015, df_QS2015 = create_constructs(df_ARWU2015, df_THE2015, df_QS2015, '2015')\n",
    "df_ARWU2014, df_THE2014, df_QS2014 = create_constructs(df_ARWU2014, df_THE2014, df_QS2014, '2014')\n",
    "df_ARWU2013, df_THE2013, df_QS2013 = create_constructs(df_ARWU2013, df_THE2013, df_QS2013, '2013')\n",
    "df_ARWU2012, df_THE2012, df_QS2012 = create_constructs(df_ARWU2012, df_THE2012, df_QS2012, '2012')"
   ]
  },
  {
   "cell_type": "code",
   "execution_count": 53,
   "metadata": {},
   "outputs": [],
   "source": [
    "df_ARWU = df_ARWU2018\n",
    "listARWU = [df_ARWU2017, df_ARWU2016, df_ARWU2015, df_ARWU2014, df_ARWU2013, df_ARWU2012]\n",
    "for i in listARWU:\n",
    "    df_ARWU = df_ARWU.append(i)"
   ]
  },
  {
   "cell_type": "code",
   "execution_count": 54,
   "metadata": {},
   "outputs": [],
   "source": [
    "df_THE = df_THE2018\n",
    "listTHE = [df_THE2017, df_THE2016, df_THE2015, df_THE2014, df_THE2013, df_THE2012]\n",
    "for i in listTHE:\n",
    "    df_THE = df_THE.append(i)"
   ]
  },
  {
   "cell_type": "code",
   "execution_count": 55,
   "metadata": {},
   "outputs": [],
   "source": [
    "df_QS = df_QS2018\n",
    "listQS = [df_QS2017, df_QS2016, df_QS2015, df_QS2014, df_QS2013, df_QS2012]\n",
    "for i in listQS:\n",
    "    df_QS = df_QS.append(i)"
   ]
  },
  {
   "cell_type": "code",
   "execution_count": 56,
   "metadata": {},
   "outputs": [],
   "source": [
    "def create_uni_df(ARWU, THE, QS, GRID):\n",
    "    ARWU = ARWU[ARWU['GRID_ID'] == GRID]\n",
    "    THE = THE[THE['GRID_ID'] == GRID]\n",
    "    QS = QS[QS['GRID_ID'] == GRID]\n",
    "\n",
    "    return ARWU, THE, QS"
   ]
  },
  {
   "cell_type": "code",
   "execution_count": 57,
   "metadata": {},
   "outputs": [
    {
     "data": {
      "text/plain": [
       "<matplotlib.legend.Legend at 0x114dd9128>"
      ]
     },
     "execution_count": 57,
     "metadata": {},
     "output_type": "execute_result"
    },
    {
     "data": {
      "image/png": "[encoded data removed]",
      "text/plain": [
       "<Figure size 1080x360 with 3 Axes>"
      ]
     },
     "metadata": {},
     "output_type": "display_data"
    }
   ],
   "source": [
    "fig, (ax1, ax2 ,ax3) = plt.subplots(1, 3, figsize=(15,5))\n",
    "\n",
    "for i in grid_list:\n",
    "    df_stanford_ARWU, df_stanford_THE, df_stanford_QS = create_uni_df(df_ARWU, df_THE, df_QS, i)\n",
    "    \n",
    "    line = ax1.plot(df_stanford_ARWU['Reputation_ARWU'], df_stanford_ARWU['Publication_ARWU'])[0]\n",
    "    add_arrow(line)\n",
    "    line = ax2.plot(df_stanford_THE['Reputation_THE'], df_stanford_THE['Publication_THE'])[0]\n",
    "    add_arrow(line)\n",
    "    line = ax3.plot(df_stanford_QS['Reputation_QS'], df_stanford_QS['Publication_QS'])[0]\n",
    "    add_arrow(line)\n",
    "\n",
    "ax1.set_title('ARWU')\n",
    "ax2.set_title('THE')\n",
    "ax3.set_title('QS')\n",
    "fig.text(0.5, 0.04, 'Reputation', ha='center', va='center', fontsize=15)\n",
    "fig.text(0.09, 0.5, 'Publication', ha='center', va='center', rotation='vertical', fontsize=15)\n",
    "ax2.legend(grid_list, loc='upper center',\n",
    "           bbox_to_anchor=(0.5, -0.17), ncol=len(grid_list), fontsize = 'large', frameon=False)"
   ]
  },
  {
   "cell_type": "code",
   "execution_count": null,
   "metadata": {},
   "outputs": [],
   "source": []
  }
 ],
 "metadata": {
  "kernelspec": {
   "display_name": "Python 3",
   "language": "python",
   "name": "python3"
  },
  "language_info": {
   "codemirror_mode": {
    "name": "ipython",
    "version": 3
   },
   "file_extension": ".py",
   "mimetype": "text/x-python",
   "name": "python",
   "nbconvert_exporter": "python",
   "pygments_lexer": "ipython3",
   "version": "3.7.1"
  }
 },
 "nbformat": 4,
 "nbformat_minor": 2
}
