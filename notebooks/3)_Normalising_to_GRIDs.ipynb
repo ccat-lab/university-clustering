{
 "cells": [
  {
   "cell_type": "markdown",
   "metadata": {},
   "source": [
    "Normalising sample list to GRID IDs\n",
    "========================\n",
    "\n",
    "We have a selected list of universities now. To fully utilise the GRID information dump we need to normalise the university names to GRID IDs"
   ]
  },
  {
   "cell_type": "code",
   "execution_count": 1,
   "metadata": {},
   "outputs": [],
   "source": [
    "import os.path\n",
    "import pandas as pd\n",
    "import json\n",
    "input_data_folder = 'data/input/'\n",
    "output_data_folder = 'data/output/'\n",
    "core_data_folder = '../general/core_data/'\n",
    "grid_json_filepath = os.path.join(core_data_folder, 'grid20170926/grid.json')\n",
    "sample100 = pd.read_csv(os.path.join(output_data_folder, 'uni_sample.csv'))\n",
    "\n"
   ]
  },
  {
   "cell_type": "markdown",
   "metadata": {},
   "source": [
    "Normalising to Grid IDs\n",
    "----------------------\n",
    "\n",
    "Load up the GRID json file and process much the same as the countries to see what the issues are."
   ]
  },
  {
   "cell_type": "code",
   "execution_count": 2,
   "metadata": {},
   "outputs": [],
   "source": [
    "with open(grid_json_filepath) as f:\n",
    "    grid = json.load(f)"
   ]
  },
  {
   "cell_type": "code",
   "execution_count": 3,
   "metadata": {},
   "outputs": [],
   "source": [
    "grid_lookup = {}\n",
    "alias_lookup = {}\n",
    "acronym_lookup = {}\n",
    "for i, u in enumerate(grid['institutes']):\n",
    "    if u.get('name'): \n",
    "        if u['name'] in grid_lookup:\n",
    "            grid_lookup[u['name']] = 'amb'\n",
    "        grid_lookup[u['name']] = i\n",
    "        if u.get('aliases') != []:\n",
    "            for name in u.get('aliases'):\n",
    "                alias_lookup[name] = i\n",
    "        if u.get('acronyms') != []:\n",
    "            for name in u.get('acronyms'):\n",
    "                grid_lookup[name] = i\n"
   ]
  },
  {
   "cell_type": "code",
   "execution_count": 4,
   "metadata": {},
   "outputs": [
    {
     "name": "stdout",
     "output_type": "stream",
     "text": [
      "[('ETH Zurich – Swiss Federal Institute of Technology Zurich', 2), ('University of California, Los Angeles', 5), ('University of Illinois at Urbana-Champaign', 16), ('The University of Tokyo', 21), ('University of Texas at Austin', 24), ('Nanyang Technological University, Singapore', 31), ('Korea Advanced Institute of Science and Technology (KAIST)', 41), ('KTH Royal Institute of Technology', 46), ('TU Dresden', 52), ('Vrije Universiteit Amsterdam', 54), ('Lomonosov Moscow State University', 58), ('Justus Liebig University Giessen', 60), ('Queen’s University', 65), ('St George’s, University of London', 72), ('Bandung Institute of Technology (ITB)', 75), ('Kochi University', 76), ('University of the Andes, Colombia', 78), ('Pontifical Catholic University of Paraná', 83), ('ITMO University', 87), ('Pontifical Javeriana University', 93), ('Pontifical Catholic University of Paraná', 94), ('Indian Institute of Technology (Indian School of Mines) Dhanbad', 96), ('VIT University', 97), ('Indian Institute of Science', 98), ('University of Tlemcen', 101), ('University of Marrakech Cadi Ayyad', 102)]\n"
     ]
    }
   ],
   "source": [
    "unmatched = []\n",
    "matched = []\n",
    "for i,uni in enumerate(sample100['name']):\n",
    "    try:\n",
    "        grid_index = grid_lookup[uni]\n",
    "        g = grid['institutes'][grid_index]\n",
    "        match = {'id' : g['id'],\n",
    "                 'name' : g['name'],\n",
    "                 'city' : g['addresses'][0]['city'],\n",
    "                 'country' : g['addresses'][0]['country'],\n",
    "                 'thes_int_rank' : sample100['int_rank'][i],\n",
    "                 'subregion' : sample100['subregion'][i]}\n",
    "        \n",
    "        matched.append(match)\n",
    "        \n",
    "        if grid_lookup[uni] == 'amb':\n",
    "            print(uni, 'ambiguous')\n",
    "        \n",
    "    except KeyError:\n",
    "        unmatched.append((uni, i))\n",
    "\n",
    "print(unmatched)"
   ]
  },
  {
   "cell_type": "markdown",
   "metadata": {},
   "source": [
    "Going to try using the fuzzywuzzy library to find better matches for these universities. Will need to set up a list of names in this case to identify which element to search for."
   ]
  },
  {
   "cell_type": "code",
   "execution_count": 5,
   "metadata": {},
   "outputs": [],
   "source": [
    "from fuzzywuzzy import process, fuzz\n",
    "grid_names = [u.get('name') for u in grid['institutes']]"
   ]
  },
  {
   "cell_type": "code",
   "execution_count": 6,
   "metadata": {},
   "outputs": [],
   "source": [
    "fuzzmatch = []\n",
    "for u in unmatched:\n",
    "    d = {'thes_name': u[0],\n",
    "         'thes_country' : sample100['country'][u[1]],\n",
    "         'sample_index' : u[1]}\n",
    "    m = process.extractOne(u[0], grid_names, scorer=fuzz.token_set_ratio)\n",
    "    d.update({'grid_name': m[0],\n",
    "              'match_score' : m[1],\n",
    "              'grid_country' : grid['institutes'][grid_lookup.get(m[0])][\"addresses\"][0]['country'],\n",
    "              'grid_index' : grid_lookup.get(m[0])})\n",
    "    fuzzmatch.append(d)"
   ]
  },
  {
   "cell_type": "code",
   "execution_count": 7,
   "metadata": {},
   "outputs": [
    {
     "name": "stdout",
     "output_type": "stream",
     "text": [
      "\n",
      "thes: ETH Zurich – Swiss Federal Institute of Technology Zurich (Switzerland)\n",
      "grid: Swiss Federal Institute of Technology in Zurich (Switzerland)            \n",
      "             \n",
      "-->y\n",
      "\n",
      "thes: University of California, Los Angeles (United States)\n",
      "grid: University of California Los Angeles (United States)            \n",
      "             \n",
      "-->y\n",
      "\n",
      "thes: University of Illinois at Urbana-Champaign (United States)\n",
      "grid: University of Illinois at Urbana Champaign (United States)            \n",
      "             \n",
      "-->y\n",
      "\n",
      "thes: The University of Tokyo (Japan)\n",
      "grid: University of Tokyo (Japan)            \n",
      "             \n",
      "-->y\n",
      "\n",
      "thes: University of Texas at Austin (United States)\n",
      "grid: The University of Texas at Austin (United States)            \n",
      "             \n",
      "-->y\n",
      "\n",
      "thes: Nanyang Technological University, Singapore (Singapore)\n",
      "grid: Nanyang Technological University (Singapore)            \n",
      "             \n",
      "-->y\n",
      "\n",
      "thes: Korea Advanced Institute of Science and Technology (KAIST) (South Korea)\n",
      "grid: Korea Institute of Science and Technology (South Korea)            \n",
      "             \n",
      "-->y\n",
      "\n",
      "thes: KTH Royal Institute of Technology (Sweden)\n",
      "grid: Royal Institute of Technology (Sweden)            \n",
      "             \n",
      "-->y\n",
      "\n",
      "thes: TU Dresden (Germany)\n",
      "grid: Dresden University of Technology (Germany)            \n",
      "             \n",
      "-->y\n",
      "\n",
      "thes: Vrije Universiteit Amsterdam (Netherlands)\n",
      "grid: Vrije Universiteit Brussel (Belgium)            \n",
      "             \n",
      "-->n\n",
      "\n",
      "thes: Lomonosov Moscow State University (Russian Federation)\n",
      "grid: Moscow State University (Russia)            \n",
      "             \n",
      "-->y\n",
      "\n",
      "thes: Justus Liebig University Giessen (Germany)\n",
      "grid: University of Giessen (Germany)            \n",
      "             \n",
      "-->y\n",
      "\n",
      "thes: Queen’s University (Canada)\n",
      "grid: Queen's University Belfast (United Kingdom)            \n",
      "             \n",
      "-->n\n",
      "\n",
      "thes: St George’s, University of London (United Kingdom)\n",
      "grid: University of London (United Kingdom)            \n",
      "             \n",
      "-->n\n",
      "\n",
      "thes: Bandung Institute of Technology (ITB) (Indonesia)\n",
      "grid: Gas Technology Institute (United States)            \n",
      "             \n",
      "-->n\n",
      "\n",
      "thes: Kochi University (Japan)\n",
      "grid: Kochi University of Technology (Japan)            \n",
      "             \n",
      "-->n\n",
      "\n",
      "thes: University of the Andes, Colombia (Colombia)\n",
      "grid: University of the Andes (Chile)            \n",
      "             \n",
      "-->n\n",
      "\n",
      "thes: Pontifical Catholic University of Paraná (Brazil)\n",
      "grid: Pontifical Catholic University of Peru (Peru)            \n",
      "             \n",
      "-->n\n",
      "\n",
      "thes: ITMO University (Russian Federation)\n",
      "grid: ITM University (India)            \n",
      "             \n",
      "-->n\n",
      "\n",
      "thes: Pontifical Javeriana University (Colombia)\n",
      "grid: Pontifical Xavierian University (Colombia)            \n",
      "             \n",
      "-->y\n",
      "\n",
      "thes: Pontifical Catholic University of Paraná (Brazil)\n",
      "grid: Pontifical Catholic University of Peru (Peru)            \n",
      "             \n",
      "-->n\n",
      "\n",
      "thes: Indian Institute of Technology (Indian School of Mines) Dhanbad (India)\n",
      "grid: Indian School of Mines (India)            \n",
      "             \n",
      "-->y\n",
      "\n",
      "thes: VIT University (India)\n",
      "grid: ITM University (India)            \n",
      "             \n",
      "-->n\n",
      "\n",
      "thes: Indian Institute of Science (India)\n",
      "grid: Indian Institute of Science Bangalore (India)            \n",
      "             \n",
      "-->y\n",
      "\n",
      "thes: University of Tlemcen (Algeria)\n",
      "grid: University of Bío-Bío (Chile)            \n",
      "             \n",
      "-->n\n",
      "\n",
      "thes: University of Marrakech Cadi Ayyad (Morocco)\n",
      "grid: Cadi Ayyad University (Morocco)            \n",
      "             \n",
      "-->y\n"
     ]
    }
   ],
   "source": [
    "stilltomatch = []\n",
    "for m in fuzzmatch:\n",
    "    print(\"\"\"\n",
    "thes: {thes_name} ({thes_country})\n",
    "grid: {grid_name} ({grid_country})            \n",
    "             \"\"\".format(**m))\n",
    "    resp = input('-->')\n",
    "    if resp == 'y':\n",
    "        g = grid['institutes'][m['grid_index']]\n",
    " \n",
    "        match = {'id' : g['id'],\n",
    "                 'name' : g['name'],\n",
    "                 'city' : g['addresses'][0]['city'],\n",
    "                 'country' : g['addresses'][0]['country'],\n",
    "                 'thes_int_rank' : sample100['int_rank'][m['sample_index']],\n",
    "                 'subregion' : sample100['subregion'][m['sample_index']]}\n",
    "        \n",
    "        matched.append(match)\n",
    "    else:\n",
    "        stilltomatch.append(m)\n"
   ]
  },
  {
   "cell_type": "code",
   "execution_count": 8,
   "metadata": {},
   "outputs": [
    {
     "data": {
      "text/plain": [
       "94"
      ]
     },
     "execution_count": 8,
     "metadata": {},
     "output_type": "execute_result"
    }
   ],
   "source": [
    "len(matched)"
   ]
  },
  {
   "cell_type": "code",
   "execution_count": 9,
   "metadata": {},
   "outputs": [
    {
     "data": {
      "text/plain": [
       "[{'city': 'Bogotá',\n",
       "  'country': 'Colombia',\n",
       "  'id': 'grid.41312.35',\n",
       "  'name': 'Pontifical Xavierian University',\n",
       "  'subregion': 'South America',\n",
       "  'thes_int_rank': 600},\n",
       " {'city': 'Dhanbad',\n",
       "  'country': 'India',\n",
       "  'id': 'grid.417984.7',\n",
       "  'name': 'Indian School of Mines',\n",
       "  'subregion': 'Southern Asia',\n",
       "  'thes_int_rank': 800},\n",
       " {'city': 'Bengaluru',\n",
       "  'country': 'India',\n",
       "  'id': 'grid.34980.36',\n",
       "  'name': 'Indian Institute of Science Bangalore',\n",
       "  'subregion': 'Southern Asia',\n",
       "  'thes_int_rank': 300},\n",
       " {'city': 'Marrakesh',\n",
       "  'country': 'Morocco',\n",
       "  'id': 'grid.411840.8',\n",
       "  'name': 'Cadi Ayyad University',\n",
       "  'subregion': 'Northern Africa',\n",
       "  'thes_int_rank': 1000}]"
      ]
     },
     "execution_count": 9,
     "metadata": {},
     "output_type": "execute_result"
    }
   ],
   "source": [
    "matched[90:94]"
   ]
  },
  {
   "cell_type": "markdown",
   "metadata": {},
   "source": [
    "Final matching process\n",
    "--------\n",
    "\n",
    "Reasonable set of matches made here. Mostly confirmed by checking online via web search, there are still a few remaining which are likely easiest done manually. For each one I will try to manually disambiguate using the GRID database. Copying and pasting the name from THES into the input box at https://grid.ac/disambiguate should give the correct name which can then be looked up in the GRID lookup."
   ]
  },
  {
   "cell_type": "code",
   "execution_count": 10,
   "metadata": {},
   "outputs": [
    {
     "data": {
      "text/plain": [
       "11"
      ]
     },
     "execution_count": 10,
     "metadata": {},
     "output_type": "execute_result"
    }
   ],
   "source": [
    "len(stilltomatch)"
   ]
  },
  {
   "cell_type": "code",
   "execution_count": 11,
   "metadata": {},
   "outputs": [
    {
     "data": {
      "text/plain": [
       "'Vrije Universiteit Amsterdam'"
      ]
     },
     "execution_count": 11,
     "metadata": {},
     "output_type": "execute_result"
    }
   ],
   "source": [
    "i=0\n",
    "stilltomatch[i]['thes_name']"
   ]
  },
  {
   "cell_type": "code",
   "execution_count": 12,
   "metadata": {},
   "outputs": [
    {
     "data": {
      "text/plain": [
       "1015"
      ]
     },
     "execution_count": 12,
     "metadata": {},
     "output_type": "execute_result"
    }
   ],
   "source": [
    "grid_index = grid_lookup.get('VU University Amsterdam')\n",
    "grid_index"
   ]
  },
  {
   "cell_type": "code",
   "execution_count": 13,
   "metadata": {},
   "outputs": [
    {
     "data": {
      "text/plain": [
       "{'city': 'Amsterdam',\n",
       " 'country': 'Netherlands',\n",
       " 'id': 'grid.12380.38',\n",
       " 'name': 'VU University Amsterdam',\n",
       " 'subregion': 'Western Europe',\n",
       " 'thes_int_rank': 165}"
      ]
     },
     "execution_count": 13,
     "metadata": {},
     "output_type": "execute_result"
    }
   ],
   "source": [
    "sampleindex = stilltomatch[i]['sample_index']\n",
    "g = grid['institutes'][grid_index]\n",
    "match = {'id' : g['id'],\n",
    "         'name' : g['name'],\n",
    "         'city' : g['addresses'][0]['city'],\n",
    "         'country' : g['addresses'][0]['country'],\n",
    "         'thes_int_rank' : sample100['int_rank'][sampleindex],\n",
    "         'subregion' : sample100['subregion'][sampleindex]}\n",
    "match"
   ]
  },
  {
   "cell_type": "code",
   "execution_count": 14,
   "metadata": {},
   "outputs": [],
   "source": [
    "matched.append(match)"
   ]
  },
  {
   "cell_type": "code",
   "execution_count": 15,
   "metadata": {},
   "outputs": [
    {
     "data": {
      "text/plain": [
       "'Queen’s University'"
      ]
     },
     "execution_count": 15,
     "metadata": {},
     "output_type": "execute_result"
    }
   ],
   "source": [
    "i+=1\n",
    "stilltomatch[i]['thes_name']"
   ]
  },
  {
   "cell_type": "code",
   "execution_count": 16,
   "metadata": {},
   "outputs": [
    {
     "data": {
      "text/plain": [
       "4688"
      ]
     },
     "execution_count": 16,
     "metadata": {},
     "output_type": "execute_result"
    }
   ],
   "source": [
    "grid_index = grid_lookup.get(\"Queen's University\")\n",
    "grid_index"
   ]
  },
  {
   "cell_type": "code",
   "execution_count": 17,
   "metadata": {},
   "outputs": [
    {
     "data": {
      "text/plain": [
       "{'city': 'Kingston',\n",
       " 'country': 'Canada',\n",
       " 'id': 'grid.410356.5',\n",
       " 'name': \"Queen's University\",\n",
       " 'subregion': 'Northern America',\n",
       " 'thes_int_rank': 300}"
      ]
     },
     "execution_count": 17,
     "metadata": {},
     "output_type": "execute_result"
    }
   ],
   "source": [
    "sampleindex = stilltomatch[i]['sample_index']\n",
    "g = grid['institutes'][grid_index]\n",
    "match = {'id' : g['id'],\n",
    "         'name' : g['name'],\n",
    "         'city' : g['addresses'][0]['city'],\n",
    "         'country' : g['addresses'][0]['country'],\n",
    "         'thes_int_rank' : sample100['int_rank'][sampleindex],\n",
    "         'subregion' : sample100['subregion'][sampleindex]}\n",
    "match"
   ]
  },
  {
   "cell_type": "code",
   "execution_count": 18,
   "metadata": {},
   "outputs": [],
   "source": [
    "matched.append(match)"
   ]
  },
  {
   "cell_type": "code",
   "execution_count": 19,
   "metadata": {},
   "outputs": [
    {
     "data": {
      "text/plain": [
       "'St George’s, University of London'"
      ]
     },
     "execution_count": 19,
     "metadata": {},
     "output_type": "execute_result"
    }
   ],
   "source": [
    "i+=1\n",
    "stilltomatch[i]['thes_name']"
   ]
  },
  {
   "cell_type": "code",
   "execution_count": 20,
   "metadata": {},
   "outputs": [],
   "source": [
    "grid_index = grid_lookup.get(\"St George’s, University of London\")\n",
    "grid_index"
   ]
  },
  {
   "cell_type": "markdown",
   "metadata": {},
   "source": [
    "This seems to have failed completely. Will complete manually from data at grid.ac"
   ]
  },
  {
   "cell_type": "code",
   "execution_count": 21,
   "metadata": {},
   "outputs": [
    {
     "data": {
      "text/plain": [
       "{'city': 'London',\n",
       " 'country': 'United Kingdom',\n",
       " 'id': 'grid.264200.2',\n",
       " 'name': 'St George’s, University of London',\n",
       " 'subregion': 'Northern Europe',\n",
       " 'thes_int_rank': 250}"
      ]
     },
     "execution_count": 21,
     "metadata": {},
     "output_type": "execute_result"
    }
   ],
   "source": [
    "sampleindex = stilltomatch[i]['sample_index']\n",
    "#g = grid['institutes'][grid_index]\n",
    "match = {'id' : 'grid.264200.2',\n",
    "         'name' : \"St George’s, University of London\",\n",
    "         'city' : 'London',\n",
    "         'country' : 'United Kingdom',\n",
    "         'thes_int_rank' : sample100['int_rank'][sampleindex],\n",
    "         'subregion' : sample100['subregion'][sampleindex]}\n",
    "match"
   ]
  },
  {
   "cell_type": "code",
   "execution_count": 22,
   "metadata": {},
   "outputs": [],
   "source": [
    "matched.append(match)"
   ]
  },
  {
   "cell_type": "code",
   "execution_count": 23,
   "metadata": {},
   "outputs": [
    {
     "data": {
      "text/plain": [
       "'Bandung Institute of Technology (ITB)'"
      ]
     },
     "execution_count": 23,
     "metadata": {},
     "output_type": "execute_result"
    }
   ],
   "source": [
    "i+=1\n",
    "stilltomatch[i]['thes_name']"
   ]
  },
  {
   "cell_type": "code",
   "execution_count": 24,
   "metadata": {},
   "outputs": [
    {
     "data": {
      "text/plain": [
       "29120"
      ]
     },
     "execution_count": 24,
     "metadata": {},
     "output_type": "execute_result"
    }
   ],
   "source": [
    "grid_index = grid_lookup.get('Institut Teknologi Bandung')\n",
    "grid_index"
   ]
  },
  {
   "cell_type": "code",
   "execution_count": 25,
   "metadata": {},
   "outputs": [],
   "source": [
    "sampleindex = stilltomatch[i]['sample_index']\n",
    "g = grid['institutes'][grid_index]\n",
    "match = {'id' : g['id'],\n",
    "         'name' : g['name'],\n",
    "         'city' : g['addresses'][0]['city'],\n",
    "         'country' : g['addresses'][0]['country'],\n",
    "         'thes_int_rank' : sample100['int_rank'][sampleindex],\n",
    "         'subregion' : sample100['subregion'][sampleindex]}\n",
    "matched.append(match)"
   ]
  },
  {
   "cell_type": "code",
   "execution_count": 26,
   "metadata": {},
   "outputs": [
    {
     "data": {
      "text/plain": [
       "'Kochi University'"
      ]
     },
     "execution_count": 26,
     "metadata": {},
     "output_type": "execute_result"
    }
   ],
   "source": [
    "i+=1\n",
    "stilltomatch[i]['thes_name']"
   ]
  },
  {
   "cell_type": "code",
   "execution_count": 27,
   "metadata": {},
   "outputs": [
    {
     "data": {
      "text/plain": [
       "4012"
      ]
     },
     "execution_count": 27,
     "metadata": {},
     "output_type": "execute_result"
    }
   ],
   "source": [
    "grid_index = grid_lookup.get('Kōchi University')\n",
    "grid_index"
   ]
  },
  {
   "cell_type": "code",
   "execution_count": 28,
   "metadata": {},
   "outputs": [],
   "source": [
    "sampleindex = stilltomatch[i]['sample_index']\n",
    "g = grid['institutes'][grid_index]\n",
    "match = {'id' : g['id'],\n",
    "         'name' : g['name'],\n",
    "         'city' : g['addresses'][0]['city'],\n",
    "         'country' : g['addresses'][0]['country'],\n",
    "         'thes_int_rank' : sample100['int_rank'][sampleindex],\n",
    "         'subregion' : sample100['subregion'][sampleindex]}\n",
    "matched.append(match)"
   ]
  },
  {
   "cell_type": "code",
   "execution_count": 29,
   "metadata": {},
   "outputs": [
    {
     "data": {
      "text/plain": [
       "'University of the Andes, Colombia'"
      ]
     },
     "execution_count": 29,
     "metadata": {},
     "output_type": "execute_result"
    }
   ],
   "source": [
    "i+=1\n",
    "stilltomatch[i]['thes_name']"
   ]
  },
  {
   "cell_type": "code",
   "execution_count": 30,
   "metadata": {},
   "outputs": [
    {
     "data": {
      "text/plain": [
       "36011"
      ]
     },
     "execution_count": 30,
     "metadata": {},
     "output_type": "execute_result"
    }
   ],
   "source": [
    "grid_index = grid_lookup.get('Universidad de Los Andes')\n",
    "grid_index"
   ]
  },
  {
   "cell_type": "markdown",
   "metadata": {},
   "source": [
    "This is not actually the correct match so doing this one manually"
   ]
  },
  {
   "cell_type": "code",
   "execution_count": 32,
   "metadata": {},
   "outputs": [
    {
     "data": {
      "text/plain": [
       "{'city': 'Bogota',\n",
       " 'country': 'Columbia',\n",
       " 'id': 'grid.7247.6',\n",
       " 'name': 'Universidad de Los Andes',\n",
       " 'subregion': 'South America',\n",
       " 'thes_int_rank': 800}"
      ]
     },
     "execution_count": 32,
     "metadata": {},
     "output_type": "execute_result"
    }
   ],
   "source": [
    "sampleindex = stilltomatch[i]['sample_index']\n",
    "#g = grid['institutes'][grid_index]\n",
    "match = {'id' : 'grid.7247.6',\n",
    "         'name' : 'Universidad de Los Andes',\n",
    "         'city' : 'Bogota',\n",
    "         'country' : 'Columbia',\n",
    "         'thes_int_rank' : sample100['int_rank'][sampleindex],\n",
    "         'subregion' : sample100['subregion'][sampleindex]}\n",
    "match"
   ]
  },
  {
   "cell_type": "code",
   "execution_count": 33,
   "metadata": {},
   "outputs": [],
   "source": [
    "matched.append(match)"
   ]
  },
  {
   "cell_type": "code",
   "execution_count": 34,
   "metadata": {},
   "outputs": [
    {
     "data": {
      "text/plain": [
       "'Pontifical Catholic University of Paraná'"
      ]
     },
     "execution_count": 34,
     "metadata": {},
     "output_type": "execute_result"
    }
   ],
   "source": [
    "i+=1\n",
    "stilltomatch[i]['thes_name']"
   ]
  },
  {
   "cell_type": "code",
   "execution_count": 35,
   "metadata": {},
   "outputs": [
    {
     "data": {
      "text/plain": [
       "6723"
      ]
     },
     "execution_count": 35,
     "metadata": {},
     "output_type": "execute_result"
    }
   ],
   "source": [
    "grid_index = grid_lookup.get('Pontifícia Universidade Católica do Paraná')\n",
    "grid_index"
   ]
  },
  {
   "cell_type": "code",
   "execution_count": 36,
   "metadata": {},
   "outputs": [
    {
     "data": {
      "text/plain": [
       "{'city': 'Curitiba',\n",
       " 'country': 'Brazil',\n",
       " 'id': 'grid.412522.2',\n",
       " 'name': 'Pontifícia Universidade Católica do Paraná',\n",
       " 'subregion': 'South America',\n",
       " 'thes_int_rank': 1000}"
      ]
     },
     "execution_count": 36,
     "metadata": {},
     "output_type": "execute_result"
    }
   ],
   "source": [
    "sampleindex = stilltomatch[i]['sample_index']\n",
    "g = grid['institutes'][grid_index]\n",
    "match = {'id' : g['id'],\n",
    "         'name' : g['name'],\n",
    "         'city' : g['addresses'][0]['city'],\n",
    "         'country' : g['addresses'][0]['country'],\n",
    "         'thes_int_rank' : sample100['int_rank'][sampleindex],\n",
    "         'subregion' : sample100['subregion'][sampleindex]}\n",
    "match"
   ]
  },
  {
   "cell_type": "code",
   "execution_count": 37,
   "metadata": {},
   "outputs": [],
   "source": [
    "matched.append(match)"
   ]
  },
  {
   "cell_type": "code",
   "execution_count": 38,
   "metadata": {},
   "outputs": [
    {
     "data": {
      "text/plain": [
       "'ITMO University'"
      ]
     },
     "execution_count": 38,
     "metadata": {},
     "output_type": "execute_result"
    }
   ],
   "source": [
    "i+=1\n",
    "stilltomatch[i]['thes_name']"
   ]
  },
  {
   "cell_type": "code",
   "execution_count": 39,
   "metadata": {},
   "outputs": [
    {
     "data": {
      "text/plain": [
       "1769"
      ]
     },
     "execution_count": 39,
     "metadata": {},
     "output_type": "execute_result"
    }
   ],
   "source": [
    "grid_index = grid_lookup.get('Saint Petersburg State University of Information Technologies, Mechanics and Optics')\n",
    "grid_index"
   ]
  },
  {
   "cell_type": "code",
   "execution_count": 40,
   "metadata": {},
   "outputs": [],
   "source": [
    "sampleindex = stilltomatch[i]['sample_index']\n",
    "g = grid['institutes'][grid_index]\n",
    "match = {'id' : g['id'],\n",
    "         'name' : g['name'],\n",
    "         'city' : g['addresses'][0]['city'],\n",
    "         'country' : g['addresses'][0]['country'],\n",
    "         'thes_int_rank' : sample100['int_rank'][sampleindex],\n",
    "         'subregion' : sample100['subregion'][sampleindex]}\n",
    "matched.append(match)"
   ]
  },
  {
   "cell_type": "code",
   "execution_count": 41,
   "metadata": {},
   "outputs": [
    {
     "data": {
      "text/plain": [
       "'Pontifical Catholic University of Paraná'"
      ]
     },
     "execution_count": 41,
     "metadata": {},
     "output_type": "execute_result"
    }
   ],
   "source": [
    "i+=1\n",
    "stilltomatch[i]['thes_name']"
   ]
  },
  {
   "cell_type": "markdown",
   "metadata": {},
   "source": [
    "Not sure why this one is here twice, but it is the same one (Brazil in both cases for country) so will ignore it and move onto the last one."
   ]
  },
  {
   "cell_type": "code",
   "execution_count": 42,
   "metadata": {},
   "outputs": [
    {
     "data": {
      "text/plain": [
       "'VIT University'"
      ]
     },
     "execution_count": 42,
     "metadata": {},
     "output_type": "execute_result"
    }
   ],
   "source": [
    "i+=1\n",
    "stilltomatch[i]['thes_name']"
   ]
  },
  {
   "cell_type": "code",
   "execution_count": 43,
   "metadata": {},
   "outputs": [
    {
     "data": {
      "text/plain": [
       "7011"
      ]
     },
     "execution_count": 43,
     "metadata": {},
     "output_type": "execute_result"
    }
   ],
   "source": [
    "grid_index = grid_lookup.get('Vellore Institute of Technology University')\n",
    "grid_index"
   ]
  },
  {
   "cell_type": "code",
   "execution_count": 44,
   "metadata": {},
   "outputs": [],
   "source": [
    "sampleindex = stilltomatch[i]['sample_index']\n",
    "g = grid['institutes'][grid_index]\n",
    "match = {'id' : g['id'],\n",
    "         'name' : g['name'],\n",
    "         'city' : g['addresses'][0]['city'],\n",
    "         'country' : g['addresses'][0]['country'],\n",
    "         'thes_int_rank' : sample100['int_rank'][sampleindex],\n",
    "         'subregion' : sample100['subregion'][sampleindex]}\n",
    "matched.append(match)"
   ]
  },
  {
   "cell_type": "code",
   "execution_count": 45,
   "metadata": {},
   "outputs": [
    {
     "data": {
      "text/plain": [
       "'University of Tlemcen'"
      ]
     },
     "execution_count": 45,
     "metadata": {},
     "output_type": "execute_result"
    }
   ],
   "source": [
    "i+=1\n",
    "stilltomatch[i]['thes_name']"
   ]
  },
  {
   "cell_type": "markdown",
   "metadata": {},
   "source": [
    "No obvious match for this in the GRID database. May require further work to disambiguate."
   ]
  },
  {
   "cell_type": "code",
   "execution_count": 47,
   "metadata": {},
   "outputs": [
    {
     "data": {
      "text/plain": [
       "103"
      ]
     },
     "execution_count": 47,
     "metadata": {},
     "output_type": "execute_result"
    }
   ],
   "source": [
    "len(matched)"
   ]
  },
  {
   "cell_type": "code",
   "execution_count": 51,
   "metadata": {},
   "outputs": [],
   "source": [
    "import csv\n",
    "headers = ['id', 'name', 'subregion', 'country', 'city', 'thes_int_rank']\n",
    "filepath = os.path.join(output_data_folder, 'sample100.csv')\n",
    "with open(filepath, 'w', encoding = 'utf-8') as f:\n",
    "    writer = csv.DictWriter(f, fieldnames=headers)\n",
    "    writer.writeheader()\n",
    "    writer.writerows(matched)"
   ]
  },
  {
   "cell_type": "code",
   "execution_count": null,
   "metadata": {},
   "outputs": [],
   "source": []
  }
 ],
 "metadata": {
  "kernelspec": {
   "display_name": "Python 3",
   "language": "python",
   "name": "python3"
  },
  "language_info": {
   "codemirror_mode": {
    "name": "ipython",
    "version": 3
   },
   "file_extension": ".py",
   "mimetype": "text/x-python",
   "name": "python",
   "nbconvert_exporter": "python",
   "pygments_lexer": "ipython3",
   "version": "3.7.0"
  }
 },
 "nbformat": 4,
 "nbformat_minor": 2
}
